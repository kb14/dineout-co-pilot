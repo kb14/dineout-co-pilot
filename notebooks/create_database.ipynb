{
  "cells": [
    {
      "cell_type": "code",
      "execution_count": null,
      "metadata": {},
      "outputs": [],
      "source": [
        "import pandas as pd\n",
        "import sqlite3\n",
        "import os\n",
        "\n",
        "# Create database connection\n",
        "db_path = 'db/dineout.db'\n",
        "conn = sqlite3.connect(db_path)\n",
        "\n",
        "# List of CSV files and their corresponding table names\n",
        "csv_files = {\n",
        "    'restaurant_master': 'data/restaurant_master.csv',\n",
        "    'restaurant_metrics': 'data/restaurant_metrics.csv',\n",
        "    'ads_data': 'data/ads_data.csv',\n",
        "    'discount_history': 'data/discount_history.csv',\n",
        "    'peer_benchmarks': 'data/peer_benchmarks.csv'\n",
        "}\n",
        "\n",
        "# Import each CSV file into SQLite\n",
        "for table_name, file_path in csv_files.items():\n",
        "    print(f\"Importing {file_path} into table {table_name}...\")\n",
        "    \n",
        "    # Read CSV file\n",
        "    df = pd.read_csv(file_path)\n",
        "    \n",
        "    # Write to SQLite\n",
        "    df.to_sql(table_name, conn, if_exists='replace', index=False)\n",
        "    \n",
        "    # Print row count\n",
        "    row_count = pd.read_sql(f\"SELECT COUNT(*) as count FROM {table_name}\", conn).iloc[0]['count']\n",
        "    print(f\"Successfully imported {row_count} rows into {table_name}\")\n",
        "\n",
        "conn.close()\n",
        "print(\"\\nDatabase creation completed!\")\n"
      ]
    }
  ],
  "metadata": {
    "language_info": {
      "name": "python"
    }
  },
  "nbformat": 4,
  "nbformat_minor": 2
}
